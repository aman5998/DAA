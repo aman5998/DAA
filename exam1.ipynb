{
 "cells": [
  {
   "cell_type": "markdown",
   "id": "f0492878-8944-4cae-9ac2-f3644bc51eb0",
   "metadata": {},
   "source": [
    " Student 4 (Aman Kumar Shaw, 30001222006, A)"
   ]
  },
  {
   "cell_type": "markdown",
   "id": "ac650c79-6d38-4bdd-8851-2925cfcff8aa",
   "metadata": {},
   "source": [
    "# 13. Activity Selection Problem"
   ]
  },
  {
   "cell_type": "code",
   "execution_count": 1,
   "id": "a726ad50-3b99-4785-94dc-6188eb05b2da",
   "metadata": {},
   "outputs": [
    {
     "name": "stdout",
     "output_type": "stream",
     "text": [
      "Following activities are selected\n",
      "0 3 "
     ]
    }
   ],
   "source": [
    "def printMaxActivities(s, f): \n",
    "\tn = len(f) \n",
    "\tprint(\"Following activities are selected\") \n",
    "\n",
    "\ti = 0\n",
    "\tprint(i, end=' ') \n",
    "\n",
    "\tfor j in range(1, n): \n",
    "\n",
    "\t\tif s[j] >= f[i]: \n",
    "\t\t\tprint(j, end=' ') \n",
    "\t\t\ti = j \n",
    "\n",
    "\n",
    "if __name__ == '__main__': \n",
    "    s = [2, 4, 3, 6, 1, 7]\n",
    "    f = [5, 6, 8, 9, 3, 10]\n",
    " \n",
    "    printMaxActivities(s, f) "
   ]
  },
  {
   "cell_type": "markdown",
   "id": "73bf3023-92ed-4e17-88c5-840a2ce778e3",
   "metadata": {},
   "source": [
    "# 14. Fractional Knapsack Problem"
   ]
  },
  {
   "cell_type": "code",
   "execution_count": 2,
   "id": "31eced73-88d7-4dcb-a388-c93490fd3f74",
   "metadata": {},
   "outputs": [
    {
     "name": "stdout",
     "output_type": "stream",
     "text": [
      "352.0\n"
     ]
    }
   ],
   "source": [
    "class Item:\n",
    "\tdef __init__(self, profit, weight):\n",
    "\t\tself.profit = profit\n",
    "\t\tself.weight = weight\n",
    "\n",
    "def fractionalKnapsack(W, arr):\n",
    "\n",
    "\tarr.sort(key=lambda x: (x.profit/x.weight), reverse=True) \n",
    "\n",
    "\tfinalvalue = 0.0\n",
    "\n",
    "\tfor item in arr:\n",
    "\n",
    "\t\tif item.weight <= W:\n",
    "\t\t\tW -= item.weight\n",
    "\t\t\tfinalvalue += item.profit\n",
    "\n",
    "\t\telse:\n",
    "\t\t\tfinalvalue += item.profit * W / item.weight\n",
    "\t\t\tbreak\n",
    "\t\n",
    "\treturn finalvalue\n",
    "\n",
    "\n",
    "if __name__ == \"__main__\":\n",
    "    W = 70\n",
    "    arr = [Item(80, 15), Item(120, 25), Item(150, 35), Item(200, 40)]\n",
    "    \n",
    "    max_val = fractionalKnapsack(W, arr)\n",
    "    print(max_val)"
   ]
  },
  {
   "cell_type": "markdown",
   "id": "74a306a9-3bad-47b3-a439-1b987cc3b1fe",
   "metadata": {},
   "source": [
    "# 15. Greedy approach for job sequencing problem"
   ]
  },
  {
   "cell_type": "code",
   "execution_count": 3,
   "id": "48421c73-1f1d-4fba-b6cf-d5c091921db0",
   "metadata": {},
   "outputs": [
    {
     "name": "stdout",
     "output_type": "stream",
     "text": [
      "Following is maximum profit sequence of jobs\n",
      "['a', 'b', 'e']\n"
     ]
    }
   ],
   "source": [
    "def printJobScheduling(arr, t):\n",
    "\n",
    "\tn = len(arr)\n",
    "\n",
    "\tfor i in range(n):\n",
    "\t\tfor j in range(n - 1 - i):\n",
    "\t\t\tif arr[j][2] < arr[j + 1][2]:\n",
    "\t\t\t\tarr[j], arr[j + 1] = arr[j + 1], arr[j]\n",
    "\n",
    "\tresult = [False] * t\n",
    "\n",
    "\tjob = ['-1'] * t\n",
    "\n",
    "\tfor i in range(len(arr)):\n",
    "\n",
    "\t\tfor j in range(min(t - 1, arr[i][1] - 1), -1, -1):\n",
    "\n",
    "\t\t\tif result[j] is False:\n",
    "\t\t\t\tresult[j] = True\n",
    "\t\t\t\tjob[j] = arr[i][0]\n",
    "\t\t\t\tbreak\n",
    "                \n",
    "\tprint(job)\n",
    "\n",
    "\n",
    "if __name__ == '__main__':\n",
    "    arr = [['a', 1, 35], \n",
    "            ['b', 2, 25],\n",
    "            ['c', 2, 20],\n",
    "            ['d', 1, 15],\n",
    "            ['e', 3, 5]]\n",
    "\n",
    "    print(\"Following is maximum profit sequence of jobs\")\n",
    "\n",
    "    printJobScheduling(arr, 3)"
   ]
  },
  {
   "cell_type": "markdown",
   "id": "7f84fe98-0a04-4aed-8dc3-6e0626ae74c4",
   "metadata": {},
   "source": [
    "# 16. Job sequencing problem using Priority-Queue (Max-Heap)"
   ]
  },
  {
   "cell_type": "code",
   "execution_count": 4,
   "id": "b4e06334-b3cf-4514-9d3f-c42b0151904d",
   "metadata": {},
   "outputs": [
    {
     "name": "stdout",
     "output_type": "stream",
     "text": [
      "Following is maximum profit sequence of jobs\n",
      "b e a \n"
     ]
    }
   ],
   "source": [
    "import heapq\n",
    "\n",
    "\n",
    "def printJobScheduling(arr):\n",
    "\tn = len(arr)\n",
    "\n",
    "\tarr.sort(key=lambda x: x[1])\n",
    "\n",
    "\tresult = []\n",
    "\tmaxHeap = []\n",
    "\n",
    "\tfor i in range(n - 1, -1, -1):\n",
    "\n",
    "\t\tif i == 0:\n",
    "\t\t\tslots_available = arr[i][1]\n",
    "\t\telse:\n",
    "\t\t\tslots_available = arr[i][1] - arr[i - 1][1]\n",
    "\n",
    "\t\theapq.heappush(maxHeap, (-arr[i][2], arr[i][1], arr[i][0]))\n",
    "\n",
    "\t\twhile slots_available and maxHeap:\n",
    "\n",
    "\t\t\tprofit, deadline, job_id = heapq.heappop(maxHeap)\n",
    "\n",
    "\t\t\tslots_available -= 1\n",
    "\n",
    "\t\t\tresult.append([job_id, deadline])\n",
    "\n",
    "\tresult.sort(key=lambda x: x[1])\n",
    "\n",
    "\tfor job in result:\n",
    "\t\tprint(job[0], end=\" \")\n",
    "\tprint()\n",
    "\n",
    "\n",
    "if __name__ == '__main__':\n",
    "    arr = [['a', 4, 20], \n",
    "            ['b', 1, 40],\n",
    "            ['c', 1, 10],\n",
    "            ['d', 1, 30],\n",
    "            ['e', 2, 50]]\n",
    "\n",
    "    print(\"Following is maximum profit sequence of jobs\")\n",
    "\n",
    "    printJobScheduling(arr)"
   ]
  }
 ],
 "metadata": {
  "kernelspec": {
   "display_name": "Python 3 (ipykernel)",
   "language": "python",
   "name": "python3"
  },
  "language_info": {
   "codemirror_mode": {
    "name": "ipython",
    "version": 3
   },
   "file_extension": ".py",
   "mimetype": "text/x-python",
   "name": "python",
   "nbconvert_exporter": "python",
   "pygments_lexer": "ipython3",
   "version": "3.11.4"
  }
 },
 "nbformat": 4,
 "nbformat_minor": 5
}
